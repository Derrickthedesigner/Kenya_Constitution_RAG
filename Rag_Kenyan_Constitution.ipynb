{
  "cells": [
    {
      "cell_type": "code",
      "execution_count": null,
      "metadata": {
        "colab": {
          "base_uri": "https://localhost:8080/"
        },
        "id": "BHmyye-duuR4",
        "outputId": "bff1c263-98be-4b6d-fac4-b9205fa5247f"
      },
      "outputs": [
        {
          "ename": "",
          "evalue": "",
          "output_type": "error",
          "traceback": [
            "\u001b[1;31mRunning cells with 'Python 3.13.5' requires the ipykernel package.\n",
            "\u001b[1;31m<a href='command:jupyter.createPythonEnvAndSelectController'>Create a Python Environment</a> with the required packages.\n",
            "\u001b[1;31mOr install 'ipykernel' using the command: 'c:/Users/hp/AppData/Local/Programs/Python/Python313/python.exe -m pip install ipykernel -U --user --force-reinstall'"
          ]
        }
      ],
      "source": [
        "!pip install -q langchain langchain_community faiss-cpu pypdf"
      ]
    },
    {
      "cell_type": "code",
      "execution_count": null,
      "metadata": {
        "colab": {
          "base_uri": "https://localhost:8080/"
        },
        "collapsed": true,
        "id": "OZ5aroNG7JwJ",
        "outputId": "102b6000-6224-4b1d-fab2-fc184bf2546d"
      },
      "outputs": [],
      "source": [
        "!pip install sentence-transformers\n"
      ]
    },
    {
      "cell_type": "code",
      "execution_count": null,
      "metadata": {
        "colab": {
          "base_uri": "https://localhost:8080/"
        },
        "id": "LDk2JXyDtW8H",
        "outputId": "1a9f6dc6-54b9-498f-a8db-3e972eacb260"
      },
      "outputs": [],
      "source": [
        "from google.colab import drive\n",
        "drive.mount('/content/drive')"
      ]
    },
    {
      "cell_type": "code",
      "execution_count": null,
      "metadata": {
        "id": "_Y9NRZiZurvO"
      },
      "outputs": [],
      "source": [
        "!pip install -q langchain_groq"
      ]
    },
    {
      "cell_type": "code",
      "execution_count": null,
      "metadata": {
        "id": "5v9B2N9Bvc8v"
      },
      "outputs": [],
      "source": [
        "# importing libraries\n",
        "from langchain_community.document_loaders import PyPDFLoader\n",
        "from langchain.text_splitter import RecursiveCharacterTextSplitter"
      ]
    },
    {
      "cell_type": "code",
      "execution_count": null,
      "metadata": {
        "id": "-Tm5J4VkvnH1"
      },
      "outputs": [],
      "source": [
        "# Loading the Constitution\n",
        "loader = PyPDFLoader(\"/content/drive/MyDrive/The_Constitution_of_Kenya_2010.pdf\")\n",
        "pdf = loader.load()"
      ]
    },
    {
      "cell_type": "code",
      "execution_count": null,
      "metadata": {
        "id": "kTL4lVP-v68W"
      },
      "outputs": [],
      "source": [
        "# Chunk the text\n",
        "text_splitter = RecursiveCharacterTextSplitter(chunk_size=2000, chunk_overlap=0)\n",
        "chunks = text_splitter.split_documents(pdf)"
      ]
    },
    {
      "cell_type": "code",
      "execution_count": null,
      "metadata": {
        "id": "h_5XMR9dwFpe"
      },
      "outputs": [],
      "source": [
        "# Embed the Chunks\n",
        "from langchain.embeddings import HuggingFaceEmbeddings\n",
        "embedding_model = HuggingFaceEmbeddings(model_name=\"sentence-transformers/all-MiniLM-L6-v2\")"
      ]
    },
    {
      "cell_type": "code",
      "execution_count": null,
      "metadata": {
        "id": "SiSig9UXwufO"
      },
      "outputs": [],
      "source": [
        "embeds = embedding_model.embed_documents([chunk.page_content for chunk in chunks])"
      ]
    },
    {
      "cell_type": "code",
      "execution_count": null,
      "metadata": {
        "id": "8IK98su7xYd_"
      },
      "outputs": [],
      "source": [
        "# store in a database\n",
        "from langchain.vectorstores import FAISS\n",
        "db = FAISS.from_documents(chunks, embedding_model)"
      ]
    },
    {
      "cell_type": "code",
      "execution_count": null,
      "metadata": {
        "id": "8kukEyFXy1oR"
      },
      "outputs": [],
      "source": [
        "import os\n",
        "os.environ[\"GROQ_API_KEY\"] = os.getenv(\"GROQ_API_KEY\")\n",
        "\n",
        "from langchain.chains import RetrievalQA"
      ]
    },
    {
      "cell_type": "code",
      "execution_count": null,
      "metadata": {
        "id": "JCxMbHqVzv8t"
      },
      "outputs": [],
      "source": [
        "\n",
        "groq_llm = ChatGroq(model_name = \"moonshotai/kimi-k2-instruct-0905\")\n",
        "\n",
        "qa_chain = RetrievalQA.from_chain_type(\n",
        "    llm=groq_llm,\n",
        "    retriever=db.as_retriever(search_kwargs={\"k\": 5}),\n",
        "    return_source_documents=True\n",
        ")"
      ]
    },
    {
      "cell_type": "code",
      "execution_count": null,
      "metadata": {
        "colab": {
          "base_uri": "https://localhost:8080/"
        },
        "id": "iHkAGkvy0nX9",
        "outputId": "2c7f755f-40b3-479e-af39-b77051dce730"
      },
      "outputs": [],
      "source": [
        "# Testing it\n",
        "query = \"How many elective posts do we have in Kenya ?\"\n",
        "result = qa_chain.invoke(query)\n",
        "\n",
        "print(\"Answer:\" ,result[\"result\"])\n",
        "print(\"Sources:\" ,result[\"source_documents\"])"
      ]
    },
    {
      "cell_type": "code",
      "execution_count": null,
      "metadata": {
        "colab": {
          "base_uri": "https://localhost:8080/"
        },
        "id": "ohq-jzJM2dZE",
        "outputId": "bba4d5f4-3964-48ea-aad3-067c4b9a6efa"
      },
      "outputs": [],
      "source": [
        "# Testing it\n",
        "query = \"What is the constitution saying about life ?\"\n",
        "result = qa_chain.invoke(query)\n",
        "\n",
        "print(\"Answer:\" ,result[\"result\"])\n",
        "print(\"Sources:\" ,result[\"source_documents\"])"
      ]
    },
    {
      "cell_type": "code",
      "execution_count": null,
      "metadata": {
        "colab": {
          "base_uri": "https://localhost:8080/"
        },
        "id": "5iqt9Xc_2rOc",
        "outputId": "b60a220f-5f98-4d40-b12a-5845ed49ebdb"
      },
      "outputs": [],
      "source": [
        "query = \"How many elective posts do we have in kenya ?\"\n",
        "result = qa_chain.invoke(query)\n",
        "\n",
        "print(\"Answer:\" ,result[\"result\"])\n",
        "print(\"Sources:\" ,result[\"source_documents\"])"
      ]
    }
  ],
  "metadata": {
    "colab": {
      "provenance": []
    },
    "kernelspec": {
      "display_name": "Python 3",
      "name": "python3"
    },
    "language_info": {
      "name": "python",
      "version": "3.13.5"
    }
  },
  "nbformat": 4,
  "nbformat_minor": 0
}
